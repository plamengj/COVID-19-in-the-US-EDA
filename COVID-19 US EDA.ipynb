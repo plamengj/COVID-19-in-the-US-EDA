{
 "cells": [
  {
   "cell_type": "code",
   "execution_count": 1,
   "metadata": {},
   "outputs": [],
   "source": [
    "import pandas as pd\n",
    "import matplotlib.pyplot as plt\n",
    "import numpy as np\n",
    "\n",
    "# daily data used for US analysis\n",
    "df_init = pd.read_csv('data/04-04-2020.csv')\n",
    "df_density = pd.read_excel('data/density.xlsx')\n",
    "df_male_female = pd.read_csv('data/Male vs female COVID cases - Country data.csv')\n",
    "\n",
    "# time-series data used for US to other counties comparisons\n",
    "df_confirmed = pd.read_csv('https://raw.githubusercontent.com/CSSEGISandData/COVID-19/master/csse_covid_19_data/csse_covid_19_time_series/time_series_covid19_confirmed_global.csv')\n",
    "df_deaths = pd.read_csv('https://raw.githubusercontent.com/CSSEGISandData/COVID-19/master/csse_covid_19_data/csse_covid_19_time_series/time_series_covid19_deaths_global.csv')\n",
    "\n",
    "# cleaning the data\n",
    "df_confirmed = df_confirmed.replace(np.nan, '', regex=True)\n",
    "df_deaths = df_deaths.replace(np.nan, '', regex=True)\n",
    "\n",
    "# grabbing only the US data\n",
    "df_us = df_init.loc[df_init[\"Country_Region\"]== \"US\"] \n",
    "\n",
    "# Renaming to more standard names\n",
    "df_us = df_us.rename(columns={\"Admin2\":\"County\"})\n",
    "df_us = df_us.rename(columns={\"Confirmed\":\"Cases\"})\n",
    "df_us = df_us.rename(columns={'Province_State':'State'})"
   ]
  },
  {
   "cell_type": "code",
   "execution_count": 3,
   "metadata": {},
   "outputs": [
    {
     "data": {
      "text/html": [
       "<div>\n",
       "<style scoped>\n",
       "    .dataframe tbody tr th:only-of-type {\n",
       "        vertical-align: middle;\n",
       "    }\n",
       "\n",
       "    .dataframe tbody tr th {\n",
       "        vertical-align: top;\n",
       "    }\n",
       "\n",
       "    .dataframe thead th {\n",
       "        text-align: right;\n",
       "    }\n",
       "</style>\n",
       "<table border=\"1\" class=\"dataframe\">\n",
       "  <thead>\n",
       "    <tr style=\"text-align: right;\">\n",
       "      <th></th>\n",
       "      <th>Cases</th>\n",
       "      <th>Deaths</th>\n",
       "      <th>Mortality Rate</th>\n",
       "    </tr>\n",
       "  </thead>\n",
       "  <tbody>\n",
       "    <tr>\n",
       "      <th>Total</th>\n",
       "      <td>308850</td>\n",
       "      <td>8407</td>\n",
       "      <td>2.72</td>\n",
       "    </tr>\n",
       "  </tbody>\n",
       "</table>\n",
       "</div>"
      ],
      "text/plain": [
       "        Cases Deaths Mortality Rate\n",
       "Total  308850   8407           2.72"
      ]
     },
     "execution_count": 3,
     "metadata": {},
     "output_type": "execute_result"
    }
   ],
   "source": [
    "total = df_us.sum()\n",
    "total.name = 'Total'\n",
    "\n",
    "# calculating mortality rate\n",
    "total[\"Mortality Rate\"] = np.round(100*total[\"Deaths\"]/total[\"Cases\"],2)\n",
    "\n",
    "# US Total Data table\n",
    "pd.DataFrame(total).transpose().loc[:,[\"Cases\",\"Deaths\", 'Mortality Rate']]"
   ]
  },
  {
   "cell_type": "code",
   "execution_count": 4,
   "metadata": {},
   "outputs": [
    {
     "data": {
      "text/html": [
       "<div>\n",
       "<style scoped>\n",
       "    .dataframe tbody tr th:only-of-type {\n",
       "        vertical-align: middle;\n",
       "    }\n",
       "\n",
       "    .dataframe tbody tr th {\n",
       "        vertical-align: top;\n",
       "    }\n",
       "\n",
       "    .dataframe thead th {\n",
       "        text-align: right;\n",
       "    }\n",
       "</style>\n",
       "<table border=\"1\" class=\"dataframe\">\n",
       "  <thead>\n",
       "    <tr style=\"text-align: right;\">\n",
       "      <th></th>\n",
       "      <th>Cases</th>\n",
       "      <th>Deaths</th>\n",
       "    </tr>\n",
       "    <tr>\n",
       "      <th>State</th>\n",
       "      <th></th>\n",
       "      <th></th>\n",
       "    </tr>\n",
       "  </thead>\n",
       "  <tbody>\n",
       "    <tr>\n",
       "      <th>New York</th>\n",
       "      <td>113833</td>\n",
       "      <td>3565</td>\n",
       "    </tr>\n",
       "    <tr>\n",
       "      <th>New Jersey</th>\n",
       "      <td>34124</td>\n",
       "      <td>846</td>\n",
       "    </tr>\n",
       "    <tr>\n",
       "      <th>Michigan</th>\n",
       "      <td>14225</td>\n",
       "      <td>540</td>\n",
       "    </tr>\n",
       "    <tr>\n",
       "      <th>California</th>\n",
       "      <td>12837</td>\n",
       "      <td>289</td>\n",
       "    </tr>\n",
       "    <tr>\n",
       "      <th>Louisiana</th>\n",
       "      <td>12496</td>\n",
       "      <td>409</td>\n",
       "    </tr>\n",
       "    <tr>\n",
       "      <th>Massachusetts</th>\n",
       "      <td>11736</td>\n",
       "      <td>216</td>\n",
       "    </tr>\n",
       "    <tr>\n",
       "      <th>Florida</th>\n",
       "      <td>11545</td>\n",
       "      <td>195</td>\n",
       "    </tr>\n",
       "    <tr>\n",
       "      <th>Pennsylvania</th>\n",
       "      <td>10444</td>\n",
       "      <td>136</td>\n",
       "    </tr>\n",
       "    <tr>\n",
       "      <th>Illinois</th>\n",
       "      <td>10357</td>\n",
       "      <td>244</td>\n",
       "    </tr>\n",
       "    <tr>\n",
       "      <th>Washington</th>\n",
       "      <td>7247</td>\n",
       "      <td>315</td>\n",
       "    </tr>\n",
       "  </tbody>\n",
       "</table>\n",
       "</div>"
      ],
      "text/plain": [
       "                Cases  Deaths\n",
       "State                        \n",
       "New York       113833    3565\n",
       "New Jersey      34124     846\n",
       "Michigan        14225     540\n",
       "California      12837     289\n",
       "Louisiana       12496     409\n",
       "Massachusetts   11736     216\n",
       "Florida         11545     195\n",
       "Pennsylvania    10444     136\n",
       "Illinois        10357     244\n",
       "Washington       7247     315"
      ]
     },
     "execution_count": 4,
     "metadata": {},
     "output_type": "execute_result"
    }
   ],
   "source": [
    "# US Top 10 states data table\n",
    "df_us.loc[:,[\"Cases\",\"Deaths\",\"State\"]].groupby([\"State\"]).sum().sort_values(\"Cases\",ascending=False)[:10]"
   ]
  },
  {
   "cell_type": "code",
   "execution_count": 5,
   "metadata": {},
   "outputs": [
    {
     "data": {
      "text/html": [
       "<div>\n",
       "<style scoped>\n",
       "    .dataframe tbody tr th:only-of-type {\n",
       "        vertical-align: middle;\n",
       "    }\n",
       "\n",
       "    .dataframe tbody tr th {\n",
       "        vertical-align: top;\n",
       "    }\n",
       "\n",
       "    .dataframe thead th {\n",
       "        text-align: right;\n",
       "    }\n",
       "</style>\n",
       "<table border=\"1\" class=\"dataframe\">\n",
       "  <thead>\n",
       "    <tr style=\"text-align: right;\">\n",
       "      <th></th>\n",
       "      <th>State</th>\n",
       "      <th>Cases</th>\n",
       "      <th>Deaths</th>\n",
       "    </tr>\n",
       "    <tr>\n",
       "      <th>County</th>\n",
       "      <th></th>\n",
       "      <th></th>\n",
       "      <th></th>\n",
       "    </tr>\n",
       "  </thead>\n",
       "  <tbody>\n",
       "    <tr>\n",
       "      <th>New York City</th>\n",
       "      <td>New York</td>\n",
       "      <td>63306</td>\n",
       "      <td>1905</td>\n",
       "    </tr>\n",
       "    <tr>\n",
       "      <th>Nassau</th>\n",
       "      <td>New York</td>\n",
       "      <td>13346</td>\n",
       "      <td>95</td>\n",
       "    </tr>\n",
       "    <tr>\n",
       "      <th>Westchester</th>\n",
       "      <td>New York</td>\n",
       "      <td>13081</td>\n",
       "      <td>67</td>\n",
       "    </tr>\n",
       "    <tr>\n",
       "      <th>Suffolk</th>\n",
       "      <td>New York</td>\n",
       "      <td>11370</td>\n",
       "      <td>124</td>\n",
       "    </tr>\n",
       "    <tr>\n",
       "      <th>Cook</th>\n",
       "      <td>Illinois</td>\n",
       "      <td>7439</td>\n",
       "      <td>167</td>\n",
       "    </tr>\n",
       "    <tr>\n",
       "      <th>Wayne</th>\n",
       "      <td>Michigan</td>\n",
       "      <td>6762</td>\n",
       "      <td>252</td>\n",
       "    </tr>\n",
       "    <tr>\n",
       "      <th>Bergen</th>\n",
       "      <td>New Jersey</td>\n",
       "      <td>5760</td>\n",
       "      <td>179</td>\n",
       "    </tr>\n",
       "    <tr>\n",
       "      <th>Rockland</th>\n",
       "      <td>New York</td>\n",
       "      <td>4872</td>\n",
       "      <td>69</td>\n",
       "    </tr>\n",
       "    <tr>\n",
       "      <th>Los Angeles</th>\n",
       "      <td>California</td>\n",
       "      <td>4605</td>\n",
       "      <td>93</td>\n",
       "    </tr>\n",
       "    <tr>\n",
       "      <th>Orleans</th>\n",
       "      <td>Louisiana</td>\n",
       "      <td>3966</td>\n",
       "      <td>153</td>\n",
       "    </tr>\n",
       "  </tbody>\n",
       "</table>\n",
       "</div>"
      ],
      "text/plain": [
       "                    State  Cases  Deaths\n",
       "County                                  \n",
       "New York City    New York  63306    1905\n",
       "Nassau           New York  13346      95\n",
       "Westchester      New York  13081      67\n",
       "Suffolk          New York  11370     124\n",
       "Cook             Illinois   7439     167\n",
       "Wayne            Michigan   6762     252\n",
       "Bergen         New Jersey   5760     179\n",
       "Rockland         New York   4872      69\n",
       "Los Angeles    California   4605      93\n",
       "Orleans         Louisiana   3966     153"
      ]
     },
     "execution_count": 5,
     "metadata": {},
     "output_type": "execute_result"
    }
   ],
   "source": [
    "# US Top 10 Counties\n",
    "df_us.loc[:,[\"State\",\"Cases\",\"Deaths\",\"County\"]].sort_values(\"Cases\",ascending=False).set_index(\"County\")[:10]"
   ]
  },
  {
   "cell_type": "code",
   "execution_count": 2,
   "metadata": {},
   "outputs": [
    {
     "data": {
      "image/png": "[encoded data removed]",
      "text/plain": [
       "<Figure size 432x288 with 1 Axes>"
      ]
     },
     "metadata": {
      "needs_background": "light"
     },
     "output_type": "display_data"
    }
   ],
   "source": [
    "# Top 10 States USA Cases\n",
    "f = plt.figure()\n",
    "\n",
    "# 1x1 grid, first subplot\n",
    "f.add_subplot(111)\n",
    "\n",
    "# Remove lines through the bars\n",
    "plt.axes(axisbelow=True)\n",
    "\n",
    "# Plotting the cases\n",
    "plt.barh(df_us.groupby([\"State\"]).sum().sort_values('Cases')[\"Cases\"].index[-10:],df_us.groupby([\"State\"]).sum().sort_values('Cases')[\"Cases\"].values[-10:])\n",
    "plt.xlabel(\"Cases\")\n",
    "plt.title(\"Top 10 States: USA (Cases)\")\n",
    "plt.grid()\n",
    "plt.savefig('figures/Top 10 States_USA (Cases).png')"
   ]
  },
  {
   "cell_type": "code",
   "execution_count": 3,
   "metadata": {},
   "outputs": [
    {
     "data": {
      "image/png": "[encoded data removed]",
      "text/plain": [
       "<Figure size 432x288 with 1 Axes>"
      ]
     },
     "metadata": {
      "needs_background": "light"
     },
     "output_type": "display_data"
    }
   ],
   "source": [
    "# Top 10 States USA Cases\n",
    "f = plt.figure()\n",
    "\n",
    "# 1x1 grid, first subplot\n",
    "f.add_subplot(111)\n",
    "\n",
    "# Remove lines through the bars\n",
    "plt.axes(axisbelow=True)\n",
    "\n",
    "# Plotting the cases\n",
    "plt.barh(df_us.groupby([\"State\"]).sum().sort_values('Cases')[\"Cases\"].index[-10:],df_us.groupby([\"State\"]).sum().sort_values('Cases')[\"Cases\"].values[-10:])\n",
    "plt.xlabel(\"Cases\")\n",
    "plt.title(\"Top 10 States: USA (Cases)\")\n",
    "plt.grid()\n",
    "plt.savefig('figures/Top 10 States_USA (Cases).png')"
   ]
  },
  {
   "cell_type": "code",
   "execution_count": 4,
   "metadata": {},
   "outputs": [
    {
     "data": {
      "image/png": "[encoded data removed]",
      "text/plain": [
       "<Figure size 432x288 with 1 Axes>"
      ]
     },
     "metadata": {
      "needs_background": "light"
     },
     "output_type": "display_data"
    }
   ],
   "source": [
    "#Top 10 States Death cases\n",
    "f = plt.figure()\n",
    "f.add_subplot(111)\n",
    "\n",
    "plt.axes(axisbelow=True)\n",
    "\n",
    "#plotting the deaths\n",
    "plt.barh(df_us.groupby([\"State\"]).sum().sort_values('Deaths')[\"Deaths\"].index[-10:],df_us.groupby([\"State\"]).sum().sort_values('Deaths')[\"Deaths\"].values[-10:],color=\"red\")\n",
    "plt.xlabel(\"Deaths\")\n",
    "plt.title(\"Top 10 States: USA (Deaths)\")\n",
    "plt.grid()\n",
    "plt.savefig('figures/Top 10 States_USA (Deaths).png')"
   ]
  },
  {
   "cell_type": "code",
   "execution_count": 6,
   "metadata": {},
   "outputs": [
    {
     "data": {
      "image/png": "[encoded data removed]",
      "text/plain": [
       "<Figure size 432x288 with 1 Axes>"
      ]
     },
     "metadata": {
      "needs_background": "light"
     },
     "output_type": "display_data"
    }
   ],
   "source": [
    "f = plt.figure()\n",
    "f.add_subplot(111)\n",
    "\n",
    "plt.axes(axisbelow=True)\n",
    "\n",
    "#plotting Top 10 counties Cases\n",
    "plt.barh(df_us.groupby([\"County\"]).sum().sort_values('Cases')[\"Cases\"].index[-10:],df_us.groupby([\"County\"]).sum().sort_values('Cases')[\"Cases\"].values[-10:])\n",
    "plt.tick_params()\n",
    "plt.xlabel(\"Cases\")\n",
    "plt.title(\"Top 10 Counties: USA (Cases)\")\n",
    "plt.grid()\n",
    "plt.savefig('figures/Top 10 Counties_USA (Cases).png')"
   ]
  },
  {
   "cell_type": "code",
   "execution_count": 7,
   "metadata": {},
   "outputs": [
    {
     "data": {
      "image/png": "[encoded data removed]",
      "text/plain": [
       "<Figure size 432x288 with 1 Axes>"
      ]
     },
     "metadata": {
      "needs_background": "light"
     },
     "output_type": "display_data"
    }
   ],
   "source": [
    "f = plt.figure()\n",
    "f.add_subplot(111)\n",
    "\n",
    "plt.axes(axisbelow=True)\n",
    "plt.barh(df_us.groupby([\"County\"]).sum().sort_values('Deaths')[\"Deaths\"].index[-10:],df_us.groupby([\"County\"]).sum().sort_values('Deaths')[\"Deaths\"].values[-10:],color=\"red\")\n",
    "plt.xlabel(\"Deaths\")\n",
    "plt.title(\"Top 10 Counties: USA (Deaths)\")\n",
    "plt.grid()\n",
    "plt.savefig('figures/Top 10 Counties_USA (Deaths).png')"
   ]
  },
  {
   "cell_type": "code",
   "execution_count": 43,
   "metadata": {},
   "outputs": [
    {
     "name": "stdout",
     "output_type": "stream",
     "text": [
      "0.1013504542219751\n"
     ]
    },
    {
     "data": {
      "text/plain": [
       "False"
      ]
     },
     "execution_count": 43,
     "metadata": {},
     "output_type": "execute_result"
    }
   ],
   "source": [
    "# Hypothesis testing - One-tailed t-test\n",
    "# H0: There is no difference between the probability of contracting COVID-19 if you are a male or a female: p_male = p_female\n",
    "# H1: There is a higher chance of contracting COVID-19 if you are a male than if you are a female: p_male > p_female\n",
    "import scipy.stats as stats\n",
    "# male % cases in different countries\n",
    "cases_males = [.51, .51, .46, .49, .50, .51, .51, .50, .55, .51, .47, .52, .56, .57, .55, .59, .51, .60, .44, .48, .41, .40, .49, .51, .48, .55, .49]\n",
    "# female % cases in different countries\n",
    "cases_females = [.49, .49, .54, .51, .50, .49, .49, .50, .45, .49, .53, .48, .44, .43, .45, .40, .49, .40, .56, .51, .55, .60, .51, .49, .52, .39, .51]\n",
    "p = stats.ttest_ind(cases_males, cases_females)\n",
    "print(p[1]/2)\n",
    "# Is p smaller than the threshold of .05\n",
    "p[1]/2 < .05\n",
    "# We fail reject the null hypothesis (p-value >.05), therefore there is no statistical difference between men and women in terms of the probability of being infected by the virus"
   ]
  },
  {
   "cell_type": "code",
   "execution_count": 42,
   "metadata": {},
   "outputs": [
    {
     "name": "stdout",
     "output_type": "stream",
     "text": [
      "1.867440694801821e-13\n"
     ]
    },
    {
     "data": {
      "text/plain": [
       "True"
      ]
     },
     "execution_count": 42,
     "metadata": {},
     "output_type": "execute_result"
    }
   ],
   "source": [
    "# Hypothesis testing - One-tailed t-test\n",
    "# H0: There is no difference between the probability of dying from COVID-19 if you are male or female: p_male = p_female\n",
    "# H1: There is a higher chance of dying from COVID-19 if you are a male than female: p_male > p_females\n",
    "import scipy.stats as stats\n",
    "# male % deaths of cases in different countries\n",
    "deaths_males = [.57, .64, .67, .58, .65, .59, .69, .58, .69, .53, .63, .59, .63, .61]\n",
    "# female % deaths of cases in different countries\n",
    "deaths_females = [.41, .36, .33, .42, .35, .41, .31, .42, .31, .47, .37, .41, .37, .39]\n",
    "p = stats.ttest_ind(deaths_males, deaths_females)\n",
    "print(p[1]/2)\n",
    "p[1]/2 < .05\n",
    "# We reject the null hypothesis (p-value <.05), therefore the probability of dying from COVID-19 is higher in men than in women"
   ]
  }
 ],
 "metadata": {
  "kernelspec": {
   "display_name": "Python 3",
   "language": "python",
   "name": "python3"
  },
  "language_info": {
   "codemirror_mode": {
    "name": "ipython",
    "version": 3
   },
   "file_extension": ".py",
   "mimetype": "text/x-python",
   "name": "python",
   "nbconvert_exporter": "python",
   "pygments_lexer": "ipython3",
   "version": "3.7.4"
  }
 },
 "nbformat": 4,
 "nbformat_minor": 4
}
